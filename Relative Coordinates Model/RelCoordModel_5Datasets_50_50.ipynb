{
  "nbformat": 4,
  "nbformat_minor": 0,
  "metadata": {
    "colab": {
      "provenance": [],
      "toc_visible": true
    },
    "kernelspec": {
      "name": "python3",
      "display_name": "Python 3"
    },
    "language_info": {
      "name": "python"
    },
    "widgets": {
      "application/vnd.jupyter.widget-state+json": {
        "e39680628c13495eb84460c26c33345c": {
          "model_module": "@jupyter-widgets/controls",
          "model_name": "HBoxModel",
          "model_module_version": "1.5.0",
          "state": {
            "_dom_classes": [],
            "_model_module": "@jupyter-widgets/controls",
            "_model_module_version": "1.5.0",
            "_model_name": "HBoxModel",
            "_view_count": null,
            "_view_module": "@jupyter-widgets/controls",
            "_view_module_version": "1.5.0",
            "_view_name": "HBoxView",
            "box_style": "",
            "children": [
              "IPY_MODEL_c035a912d7134768b6a9bd7f9edd0a10",
              "IPY_MODEL_b3c68a0712084116bd886cd7bbe5eb78",
              "IPY_MODEL_afba6b0e4ed04b758192a4b6a5428237"
            ],
            "layout": "IPY_MODEL_ea459146847148b79cadea4a9770d971"
          }
        },
        "c035a912d7134768b6a9bd7f9edd0a10": {
          "model_module": "@jupyter-widgets/controls",
          "model_name": "HTMLModel",
          "model_module_version": "1.5.0",
          "state": {
            "_dom_classes": [],
            "_model_module": "@jupyter-widgets/controls",
            "_model_module_version": "1.5.0",
            "_model_name": "HTMLModel",
            "_view_count": null,
            "_view_module": "@jupyter-widgets/controls",
            "_view_module_version": "1.5.0",
            "_view_name": "HTMLView",
            "description": "",
            "description_tooltip": null,
            "layout": "IPY_MODEL_15f1f9df624341c78c3e8b681ac0d017",
            "placeholder": "​",
            "style": "IPY_MODEL_607ba503be46408bbd38f842d1f3a21f",
            "value": "100%"
          }
        },
        "b3c68a0712084116bd886cd7bbe5eb78": {
          "model_module": "@jupyter-widgets/controls",
          "model_name": "FloatProgressModel",
          "model_module_version": "1.5.0",
          "state": {
            "_dom_classes": [],
            "_model_module": "@jupyter-widgets/controls",
            "_model_module_version": "1.5.0",
            "_model_name": "FloatProgressModel",
            "_view_count": null,
            "_view_module": "@jupyter-widgets/controls",
            "_view_module_version": "1.5.0",
            "_view_name": "ProgressView",
            "bar_style": "success",
            "description": "",
            "description_tooltip": null,
            "layout": "IPY_MODEL_748604fd2f6f45468326d44034b59636",
            "max": 200,
            "min": 0,
            "orientation": "horizontal",
            "style": "IPY_MODEL_a1edd26730124d43b6f0edf6e065152d",
            "value": 200
          }
        },
        "afba6b0e4ed04b758192a4b6a5428237": {
          "model_module": "@jupyter-widgets/controls",
          "model_name": "HTMLModel",
          "model_module_version": "1.5.0",
          "state": {
            "_dom_classes": [],
            "_model_module": "@jupyter-widgets/controls",
            "_model_module_version": "1.5.0",
            "_model_name": "HTMLModel",
            "_view_count": null,
            "_view_module": "@jupyter-widgets/controls",
            "_view_module_version": "1.5.0",
            "_view_name": "HTMLView",
            "description": "",
            "description_tooltip": null,
            "layout": "IPY_MODEL_de8f044256784136804dc6fcb67f253d",
            "placeholder": "​",
            "style": "IPY_MODEL_221bd4c68c694aefa15285af37c6f8f8",
            "value": " 200/200 [4:14:30&lt;00:00, 75.21s/it]"
          }
        },
        "ea459146847148b79cadea4a9770d971": {
          "model_module": "@jupyter-widgets/base",
          "model_name": "LayoutModel",
          "model_module_version": "1.2.0",
          "state": {
            "_model_module": "@jupyter-widgets/base",
            "_model_module_version": "1.2.0",
            "_model_name": "LayoutModel",
            "_view_count": null,
            "_view_module": "@jupyter-widgets/base",
            "_view_module_version": "1.2.0",
            "_view_name": "LayoutView",
            "align_content": null,
            "align_items": null,
            "align_self": null,
            "border": null,
            "bottom": null,
            "display": null,
            "flex": null,
            "flex_flow": null,
            "grid_area": null,
            "grid_auto_columns": null,
            "grid_auto_flow": null,
            "grid_auto_rows": null,
            "grid_column": null,
            "grid_gap": null,
            "grid_row": null,
            "grid_template_areas": null,
            "grid_template_columns": null,
            "grid_template_rows": null,
            "height": null,
            "justify_content": null,
            "justify_items": null,
            "left": null,
            "margin": null,
            "max_height": null,
            "max_width": null,
            "min_height": null,
            "min_width": null,
            "object_fit": null,
            "object_position": null,
            "order": null,
            "overflow": null,
            "overflow_x": null,
            "overflow_y": null,
            "padding": null,
            "right": null,
            "top": null,
            "visibility": null,
            "width": null
          }
        },
        "15f1f9df624341c78c3e8b681ac0d017": {
          "model_module": "@jupyter-widgets/base",
          "model_name": "LayoutModel",
          "model_module_version": "1.2.0",
          "state": {
            "_model_module": "@jupyter-widgets/base",
            "_model_module_version": "1.2.0",
            "_model_name": "LayoutModel",
            "_view_count": null,
            "_view_module": "@jupyter-widgets/base",
            "_view_module_version": "1.2.0",
            "_view_name": "LayoutView",
            "align_content": null,
            "align_items": null,
            "align_self": null,
            "border": null,
            "bottom": null,
            "display": null,
            "flex": null,
            "flex_flow": null,
            "grid_area": null,
            "grid_auto_columns": null,
            "grid_auto_flow": null,
            "grid_auto_rows": null,
            "grid_column": null,
            "grid_gap": null,
            "grid_row": null,
            "grid_template_areas": null,
            "grid_template_columns": null,
            "grid_template_rows": null,
            "height": null,
            "justify_content": null,
            "justify_items": null,
            "left": null,
            "margin": null,
            "max_height": null,
            "max_width": null,
            "min_height": null,
            "min_width": null,
            "object_fit": null,
            "object_position": null,
            "order": null,
            "overflow": null,
            "overflow_x": null,
            "overflow_y": null,
            "padding": null,
            "right": null,
            "top": null,
            "visibility": null,
            "width": null
          }
        },
        "607ba503be46408bbd38f842d1f3a21f": {
          "model_module": "@jupyter-widgets/controls",
          "model_name": "DescriptionStyleModel",
          "model_module_version": "1.5.0",
          "state": {
            "_model_module": "@jupyter-widgets/controls",
            "_model_module_version": "1.5.0",
            "_model_name": "DescriptionStyleModel",
            "_view_count": null,
            "_view_module": "@jupyter-widgets/base",
            "_view_module_version": "1.2.0",
            "_view_name": "StyleView",
            "description_width": ""
          }
        },
        "748604fd2f6f45468326d44034b59636": {
          "model_module": "@jupyter-widgets/base",
          "model_name": "LayoutModel",
          "model_module_version": "1.2.0",
          "state": {
            "_model_module": "@jupyter-widgets/base",
            "_model_module_version": "1.2.0",
            "_model_name": "LayoutModel",
            "_view_count": null,
            "_view_module": "@jupyter-widgets/base",
            "_view_module_version": "1.2.0",
            "_view_name": "LayoutView",
            "align_content": null,
            "align_items": null,
            "align_self": null,
            "border": null,
            "bottom": null,
            "display": null,
            "flex": null,
            "flex_flow": null,
            "grid_area": null,
            "grid_auto_columns": null,
            "grid_auto_flow": null,
            "grid_auto_rows": null,
            "grid_column": null,
            "grid_gap": null,
            "grid_row": null,
            "grid_template_areas": null,
            "grid_template_columns": null,
            "grid_template_rows": null,
            "height": null,
            "justify_content": null,
            "justify_items": null,
            "left": null,
            "margin": null,
            "max_height": null,
            "max_width": null,
            "min_height": null,
            "min_width": null,
            "object_fit": null,
            "object_position": null,
            "order": null,
            "overflow": null,
            "overflow_x": null,
            "overflow_y": null,
            "padding": null,
            "right": null,
            "top": null,
            "visibility": null,
            "width": null
          }
        },
        "a1edd26730124d43b6f0edf6e065152d": {
          "model_module": "@jupyter-widgets/controls",
          "model_name": "ProgressStyleModel",
          "model_module_version": "1.5.0",
          "state": {
            "_model_module": "@jupyter-widgets/controls",
            "_model_module_version": "1.5.0",
            "_model_name": "ProgressStyleModel",
            "_view_count": null,
            "_view_module": "@jupyter-widgets/base",
            "_view_module_version": "1.2.0",
            "_view_name": "StyleView",
            "bar_color": null,
            "description_width": ""
          }
        },
        "de8f044256784136804dc6fcb67f253d": {
          "model_module": "@jupyter-widgets/base",
          "model_name": "LayoutModel",
          "model_module_version": "1.2.0",
          "state": {
            "_model_module": "@jupyter-widgets/base",
            "_model_module_version": "1.2.0",
            "_model_name": "LayoutModel",
            "_view_count": null,
            "_view_module": "@jupyter-widgets/base",
            "_view_module_version": "1.2.0",
            "_view_name": "LayoutView",
            "align_content": null,
            "align_items": null,
            "align_self": null,
            "border": null,
            "bottom": null,
            "display": null,
            "flex": null,
            "flex_flow": null,
            "grid_area": null,
            "grid_auto_columns": null,
            "grid_auto_flow": null,
            "grid_auto_rows": null,
            "grid_column": null,
            "grid_gap": null,
            "grid_row": null,
            "grid_template_areas": null,
            "grid_template_columns": null,
            "grid_template_rows": null,
            "height": null,
            "justify_content": null,
            "justify_items": null,
            "left": null,
            "margin": null,
            "max_height": null,
            "max_width": null,
            "min_height": null,
            "min_width": null,
            "object_fit": null,
            "object_position": null,
            "order": null,
            "overflow": null,
            "overflow_x": null,
            "overflow_y": null,
            "padding": null,
            "right": null,
            "top": null,
            "visibility": null,
            "width": null
          }
        },
        "221bd4c68c694aefa15285af37c6f8f8": {
          "model_module": "@jupyter-widgets/controls",
          "model_name": "DescriptionStyleModel",
          "model_module_version": "1.5.0",
          "state": {
            "_model_module": "@jupyter-widgets/controls",
            "_model_module_version": "1.5.0",
            "_model_name": "DescriptionStyleModel",
            "_view_count": null,
            "_view_module": "@jupyter-widgets/base",
            "_view_module_version": "1.2.0",
            "_view_name": "StyleView",
            "description_width": ""
          }
        }
      }
    }
  },
  "cells": [
    {
      "cell_type": "markdown",
      "source": [
        "### **Importing Libraries**"
      ],
      "metadata": {
        "id": "B31t3XeW-Kdc"
      }
    },
    {
      "cell_type": "code",
      "source": [
        "import math\n",
        "import numpy as np\n",
        "import pandas as pd\n",
        "import matplotlib.pyplot as plt"
      ],
      "metadata": {
        "id": "1hUVnjCq0GRT"
      },
      "execution_count": null,
      "outputs": []
    },
    {
      "cell_type": "markdown",
      "source": [
        "### **Contour Dataset Class**"
      ],
      "metadata": {
        "id": "6WOFlgkEYf3K"
      }
    },
    {
      "cell_type": "code",
      "source": [
        "class ContourDataSet():\n",
        "\n",
        "    def __init__(self, params):\n",
        "        self.params = params\n",
        "        self.setToolPathParams()\n",
        "        self.preprocessData()\n",
        "\n",
        "    def preprocessData(self):\n",
        "        self.importData()\n",
        "        self.calculateTimeStamps(display=True)\n",
        "        self.get_features_targets()\n",
        "\n",
        "    def importData(self):\n",
        "        coordinates_data = pd.read_excel(self.params[COORDINATES_DATA_PATH])\n",
        "        # Since z coordinate is same... (or) doesn't exist\n",
        "        self.coordinates = coordinates_data.iloc[:, :2].values\n",
        "\n",
        "        self.NUM_PARTICLES = self.coordinates.shape[0]\n",
        "\n",
        "        # times_data = pd.read_excel('')\n",
        "        # times = times_data.iloc[:, 1].values\n",
        "\n",
        "        temperature_time_data = pd.read_excel(self.params[TEMPERATURE_TIME_DATA_PATH])\n",
        "        self.temperatures = temperature_time_data.iloc[:, range(1, self.NUM_PARTICLES*2, 2)].values\n",
        "\n",
        "        self.times = temperature_time_data.iloc[:, :1].values\n",
        "\n",
        "        self.TIME_STEPS = self.times.shape[0]\n",
        "\n",
        "        print('Data Shapes...')\n",
        "        print(f'coordinates : {self.coordinates.shape}')\n",
        "        print(f'times : {self.times.shape}')\n",
        "        print(f'temperatures : {self.temperatures.shape}')\n",
        "\n",
        "    def setToolPathParams(self):\n",
        "\n",
        "        self.SPEED = self.params[SPEED]\n",
        "        \n",
        "        self.X_MIN = self.params[DIMENSIONS][0]\n",
        "        self.X_MAX = self.params[DIMENSIONS][1]\n",
        "\n",
        "        self.Y_MIN = self.params[DIMENSIONS][2]\n",
        "        self.Y_MAX = self.params[DIMENSIONS][3]\n",
        "\n",
        "        # Removed beacuse they reduce...\n",
        "        # self.X_STEP_LEN = self.X_MAX - self.X_MIN\n",
        "        # self.Y_STEP_LEN = self.Y_MAX - self.Y_MIN\n",
        "\n",
        "        self.OFFSET = self.params[OFFSET]\n",
        "\n",
        "    def calculateTimeStamps(self, display=False):\n",
        "\n",
        "        X_STEP = self.X_MAX - self.X_MIN\n",
        "        Y_STEP = self.Y_MAX - self.Y_MIN\n",
        "\n",
        "        # Assuming starting point is top left...\n",
        "        # Position - TimeStamp\n",
        "        self.pos_ts = np.array([[self.X_MIN, self.Y_MAX, 0],\n",
        "                                [self.X_MAX, self.Y_MAX, X_STEP/self.SPEED],\n",
        "                                [self.X_MAX, self.Y_MIN, (X_STEP + Y_STEP)/self.SPEED],\n",
        "                                [self.X_MIN, self.Y_MIN, (2*X_STEP + Y_STEP)/self.SPEED]])\n",
        "        \n",
        "        # Represents turn..\n",
        "        i = 4\n",
        "        \n",
        "        while True:\n",
        "            b = np.array([[0.0,0.0,0.0]])\n",
        "            \n",
        "            if (i % 4 == 0):\n",
        "                Y_STEP = Y_STEP - self.OFFSET\n",
        "                if (Y_STEP <= self.OFFSET):\n",
        "                    break\n",
        "                x = self.pos_ts[i-1][0]\n",
        "                y = self.pos_ts[i-1][1] + Y_STEP\n",
        "                t = self.pos_ts[i-1][2] + (Y_STEP/self.SPEED)\n",
        "                \n",
        "            elif (i % 4 == 1):\n",
        "                X_STEP = X_STEP - self.OFFSET\n",
        "                if (X_STEP <= self.OFFSET):\n",
        "                    break\n",
        "                x = self.pos_ts[i-1][0] + X_STEP\n",
        "                y = self.pos_ts[i-1][1]\n",
        "                t = self.pos_ts[i-1][2] + (X_STEP/self.SPEED)\n",
        "                \n",
        "            elif (i % 4 == 2):\n",
        "                Y_STEP = Y_STEP - self.OFFSET\n",
        "                if (Y_STEP <= self.OFFSET):\n",
        "                    break\n",
        "                x = self.pos_ts[i-1][0]\n",
        "                y = self.pos_ts[i-1][1] - Y_STEP\n",
        "                t = self.pos_ts[i-1][2] + (Y_STEP/self.SPEED)\n",
        "                \n",
        "            elif (i % 4 == 3):\n",
        "                X_STEP = X_STEP - self.OFFSET\n",
        "                if (X_STEP <= self.OFFSET):\n",
        "                    break\n",
        "                x = self.pos_ts[i-1][0] - X_STEP\n",
        "                y = self.pos_ts[i-1][1]\n",
        "                t = self.pos_ts[i-1][2] + (X_STEP/self.SPEED)\n",
        "            \n",
        "            self.pos_ts = np.vstack((self.pos_ts, \n",
        "                                                  np.array([[x, y, t]])))\n",
        "            i = i+1\n",
        "\n",
        "        if (display):\n",
        "            plt.plot(self.pos_ts[:,0], self.pos_ts[:,1])\n",
        "            plt.show()\n",
        "\n",
        "    def rel_coordinates(self, xa, ya, t):\n",
        "\n",
        "        if (t > self.pos_ts[-1][2]):\n",
        "            return xa, ya, 1\n",
        "        elif (t == self.pos_ts[-1][2]):\n",
        "            return xa, ya, 0\n",
        "\n",
        "        for i in range(self.pos_ts.shape[0]):\n",
        "\n",
        "            if (t < self.pos_ts[i][2]):\n",
        "                tt = t - self.pos_ts[i-1][2]\n",
        "                dis = self.SPEED*tt\n",
        "                \n",
        "                # Going right\n",
        "                if (self.pos_ts[i-1][1] == self.pos_ts[i][1] and self.pos_ts[i-1][0] < self.pos_ts[i][0]):\n",
        "                    xt = self.pos_ts[i-1][0] + dis\n",
        "                    yt = self.pos_ts[i-1][1]\n",
        "\n",
        "                # Going down\n",
        "                elif (self.pos_ts[i-1][0] == self.pos_ts[i][0] and self.pos_ts[i-1][1] > self.pos_ts[i][1]):\n",
        "                    xt = self.pos_ts[i-1][0]\n",
        "                    yt = self.pos_ts[i-1][1] - dis\n",
        "\n",
        "                # Going left\n",
        "                elif (self.pos_ts[i-1][1] == self.pos_ts[i][1] and self.pos_ts[i-1][0] > self.pos_ts[i][0]):\n",
        "                    xt = self.pos_ts[i-1][0] - dis\n",
        "                    yt = self.pos_ts[i-1][1]\n",
        "\n",
        "                # Going up\n",
        "                elif (self.pos_ts[i-1][0] == self.pos_ts[i][0] and self.pos_ts[i-1][1] < self.pos_ts[i][1]):\n",
        "                    xt = self.pos_ts[i-1][0]\n",
        "                    yt = self.pos_ts[i-1][1] + dis\n",
        "\n",
        "                break\n",
        "\n",
        "        return xa-xt, ya-yt, 0\n",
        "\n",
        "    def get_features_targets(self):\n",
        "        \n",
        "        self.X = None\n",
        "\n",
        "        for i in range(0, self.NUM_PARTICLES):\n",
        "            a = self.times[:, :]\n",
        "            b = self.temperatures[:, i:i+1]\n",
        "            c = np.hstack((a, b))\n",
        "            d = self.coordinates[i:i+1, :]\n",
        "            e = np.array([d[0]]*self.TIME_STEPS)\n",
        "            \n",
        "            g = np.zeros(a.shape)\n",
        "\n",
        "            f = np.hstack((e, e, g, c))\n",
        "\n",
        "            for j in range(f.shape[0]):\n",
        "                xa = f[j][0]\n",
        "                ya = f[j][1]\n",
        "                t = f[j][5]\n",
        "                xr, yr, flag = self.rel_coordinates(xa, ya, t)\n",
        "                f[j][0] = xr\n",
        "                f[j][1] = yr\n",
        "                f[j][4] = flag\n",
        "\n",
        "            if self.X is None:\n",
        "                self.X = f\n",
        "            else:\n",
        "                self.X = np.vstack((self.X, f))\n",
        "\n",
        "        self.y = self.X[:, -1:]\n",
        "        self.X = self.X[:, :-1]\n",
        "\n",
        "        print(f'X shape : {self.X.shape}')\n",
        "        print(f'y shape : {self.y.shape}')"
      ],
      "metadata": {
        "id": "rP46kpblYjET"
      },
      "execution_count": null,
      "outputs": []
    },
    {
      "cell_type": "markdown",
      "source": [
        "### **ZigZag Dataset Class**"
      ],
      "metadata": {
        "id": "CRgTltm89VeG"
      }
    },
    {
      "cell_type": "code",
      "source": [
        "class ZigZagDataSet():\n",
        "\n",
        "    def __init__(self, params):\n",
        "        self.params = params\n",
        "        self.setToolPathParams()\n",
        "        self.preprocessData()\n",
        "        self.plotPattern()\n",
        "\n",
        "    def preprocessData(self):\n",
        "        self.importData()\n",
        "        self.get_features_targets()\n",
        "\n",
        "    def importData(self):\n",
        "        coordinates_data = pd.read_excel(self.params[COORDINATES_DATA_PATH])\n",
        "        # Since z coordinate is same... (or) doesn't exist\n",
        "        self.coordinates = coordinates_data.iloc[:, :2].values\n",
        "\n",
        "        self.NUM_PARTICLES = self.coordinates.shape[0]\n",
        "\n",
        "        # times_data = pd.read_excel('')\n",
        "        # times = times_data.iloc[:, 1].values\n",
        "\n",
        "        temperature_time_data = pd.read_excel(self.params[TEMPERATURE_TIME_DATA_PATH])\n",
        "        self.temperatures = temperature_time_data.iloc[:, range(1, self.NUM_PARTICLES*2, 2)].values\n",
        "\n",
        "        self.times = temperature_time_data.iloc[:, :1].values\n",
        "\n",
        "        self.TIME_STEPS = self.times.shape[0]\n",
        "\n",
        "        print('Data Shapes...')\n",
        "        print(f'coordinates : {self.coordinates.shape}')\n",
        "        print(f'times : {self.times.shape}')\n",
        "        print(f'temperatures : {self.temperatures.shape}')\n",
        "\n",
        "    def setToolPathParams(self):\n",
        "\n",
        "        self.SPEED = self.params[SPEED]\n",
        "        \n",
        "        self.X_MIN = self.params[DIMENSIONS][0]\n",
        "        self.X_MAX = self.params[DIMENSIONS][1]\n",
        "\n",
        "        self.Y_MIN = self.params[DIMENSIONS][2]\n",
        "        self.Y_MAX = self.params[DIMENSIONS][3]\n",
        "\n",
        "        self.START_DIR = self.params[DIRECTION]\n",
        "\n",
        "        if (self.params[DIRECTION] == 'horizontal'):\n",
        "            self.X_STEP_LEN = self.X_MAX - self.X_MIN\n",
        "            self.Y_STEP_LEN = self.params[STEP_LENGTH][1]\n",
        "            self.TOTAL_Y_STEPS = (self.Y_MAX - self.Y_MIN) / self.Y_STEP_LEN\n",
        "            self.TOTAL_X_STEPS = self.TOTAL_Y_STEPS + 1\n",
        "\n",
        "        elif (self.params[DIRECTION] == 'vertical'):\n",
        "            self.X_STEP_LEN = self.params[STEP_LENGTH][0]\n",
        "            self.Y_STEP_LEN = self.Y_MAX - self.Y_MIN\n",
        "            self.TOTAL_X_STEPS = (self.X_MAX - self.X_MIN) / self.X_STEP_LEN\n",
        "            self.TOTAL_Y_STEPS = self.TOTAL_X_STEPS + 1\n",
        "\n",
        "        if (self.params[START_POS] == 'top-left'):\n",
        "            self.X_DIR = +1\n",
        "            self.Y_DIR = -1\n",
        "\n",
        "        elif (self.params[START_POS] == 'top-right'):\n",
        "            self.X_DIR = -1\n",
        "            self.Y_DIR = -1\n",
        "\n",
        "        elif (self.params[START_POS] == 'bottom-left'):\n",
        "            self.X_DIR = +1\n",
        "            self.Y_DIR = +1\n",
        "\n",
        "        elif (self.params[START_POS] == 'bottom-right'):\n",
        "            self.X_DIR = -1\n",
        "            self.Y_DIR = +1   \n",
        "\n",
        "        self.TOTAL_DIS = self.TOTAL_X_STEPS * self.X_STEP_LEN + self.TOTAL_Y_STEPS * self.Y_STEP_LEN\n",
        "\n",
        "        self.TOTAL_PATTERN_TIME = self.TOTAL_DIS / self.SPEED\n",
        "\n",
        "        self.X_STEP_TIME = self.X_STEP_LEN / self.SPEED\n",
        "        self.Y_STEP_TIME = self.Y_STEP_LEN / self.SPEED\n",
        "\n",
        "        self.STEP_TIME = self.X_STEP_TIME + self.Y_STEP_TIME\n",
        "\n",
        "    def rel_coordinates(self, xa, ya, t):\n",
        "\n",
        "        # 1 represents that deposition is completed\n",
        "        if (t > self.TOTAL_PATTERN_TIME):\n",
        "            return xa, ya, 1\n",
        "\n",
        "        complete_steps = math.floor(t/self.STEP_TIME)\n",
        "        tt = t - self.STEP_TIME*complete_steps\n",
        "\n",
        "        if (self.START_DIR == 'horizontal'):\n",
        "            \n",
        "            if (tt >= self.X_STEP_TIME):\n",
        "                xx = self.X_STEP_LEN\n",
        "                yy = (tt -self.X_STEP_TIME)*self.SPEED\n",
        "            else:\n",
        "                xx = tt*self.SPEED\n",
        "                yy = 0\n",
        "\n",
        "            if (self.X_DIR == 1):\n",
        "                if (complete_steps % 2 == 0):\n",
        "                    xt = self.X_MIN + xx\n",
        "                elif (complete_steps % 2 == 1):\n",
        "                    xt = self.X_MAX - xx\n",
        "            elif (self.X_DIR == -1):\n",
        "                if (complete_steps % 2 == 1):\n",
        "                    xt = self.X_MIN + xx\n",
        "                elif (complete_steps % 2 == 0):\n",
        "                    xt = self.X_MAX - xx\n",
        "\n",
        "            if (self.Y_DIR == 1):\n",
        "                yt = self.Y_MIN + complete_steps*(self.Y_STEP_LEN) + yy\n",
        "            elif (self.Y_DIR == -1):\n",
        "                yt = self.Y_MAX - complete_steps*(self.Y_STEP_LEN) - yy\n",
        "\n",
        "        elif (self.START_DIR == 'vertical'):\n",
        "            \n",
        "            if (tt >= self.Y_STEP_TIME):\n",
        "                yy = self.Y_STEP_LEN\n",
        "                xx = (tt -self.Y_STEP_TIME)*self.SPEED\n",
        "            else:\n",
        "                yy = tt*self.SPEED\n",
        "                xx = 0\n",
        "\n",
        "            if (self.Y_DIR == 1):\n",
        "                if (complete_steps % 2 == 0):\n",
        "                    yt = self.Y_MIN + yy\n",
        "                elif (complete_steps % 2 == 1):\n",
        "                    yt = self.Y_MAX - yy\n",
        "            elif (self.Y_DIR == -1):\n",
        "                if (complete_steps % 2 == 1):\n",
        "                    yt = self.Y_MIN + yy\n",
        "                elif (complete_steps % 2 == 0):\n",
        "                    yt = self.Y_MAX - yy\n",
        "\n",
        "            if (self.X_DIR == 1):\n",
        "                xt = self.X_MIN + complete_steps*(self.X_STEP_LEN) + xx\n",
        "            elif (self.X_DIR == -1):\n",
        "                xt = self.X_MAX - complete_steps*(self.X_STEP_LEN) - xx\n",
        "\n",
        "        return xa-xt, ya-yt, 0\n",
        "\n",
        "    def get_features_targets(self):\n",
        "        \n",
        "        self.X = None\n",
        "\n",
        "        for i in range(0, self.NUM_PARTICLES):\n",
        "            a = self.times[:, :]\n",
        "            b = self.temperatures[:, i:i+1]\n",
        "            c = np.hstack((a, b))\n",
        "            d = self.coordinates[i:i+1, :]\n",
        "            e = np.array([d[0]]*self.TIME_STEPS)\n",
        "            \n",
        "            g = np.zeros(a.shape)\n",
        "\n",
        "            f = np.hstack((e, e, g, c))\n",
        "\n",
        "            for j in range(f.shape[0]):\n",
        "                xa = f[j][0]\n",
        "                ya = f[j][1]\n",
        "                t = f[j][5]\n",
        "                xr, yr, flag = self.rel_coordinates(xa, ya, t)\n",
        "                f[j][0] = xr\n",
        "                f[j][1] = yr\n",
        "                f[j][4] = flag\n",
        "\n",
        "            if self.X is None:\n",
        "                self.X = f\n",
        "            else:\n",
        "                self.X = np.vstack((self.X, f))\n",
        "\n",
        "        self.y = self.X[:, -1:]\n",
        "        self.X = self.X[:, :-1]\n",
        "\n",
        "        print(f'X shape : {self.X.shape}')\n",
        "        print(f'y shape : {self.y.shape}')\n",
        "\n",
        "    def plotPattern(self):\n",
        "        t = np.arange(0, self.TOTAL_PATTERN_TIME, 0.1)\n",
        "        # t = np.arange(0, 100, 0.1)\n",
        "        x = []\n",
        "        y = []\n",
        "        for tt in t:\n",
        "            xx, yy, _ = self.rel_coordinates(0, 0, tt)\n",
        "            x.append(-xx)\n",
        "            y.append(-yy)\n",
        "\n",
        "        plt.scatter(x, y, s=2)\n",
        "        plt.show()"
      ],
      "metadata": {
        "id": "I-vMHn1cM6ja"
      },
      "execution_count": null,
      "outputs": []
    },
    {
      "cell_type": "markdown",
      "source": [
        "### **Generating DataSets**"
      ],
      "metadata": {
        "id": "EDeDqb499fk0"
      }
    },
    {
      "cell_type": "markdown",
      "source": [
        "#### **Input Parameters**"
      ],
      "metadata": {
        "id": "TCpXrFetLkUl"
      }
    },
    {
      "cell_type": "code",
      "source": [
        "COORDINATES_DATA_PATH      = 'coordinates_data_path'\n",
        "TIME_DATA_PATH             = 'times_data_path'\n",
        "TEMPERATURE_TIME_DATA_PATH = 'temperature_time_data_path'\n",
        "DIMENSIONS                 = 'dimensions'\n",
        "SPEED                      = 'speed'\n",
        "STEP_LENGTH                = 'step_length'\n",
        "START_POS                  = 'start_pos'\n",
        "OFFSET                     = 'offset'\n",
        "DIRECTION                  = 'direction'"
      ],
      "metadata": {
        "id": "vQC6epb3GOEc"
      },
      "execution_count": null,
      "outputs": []
    },
    {
      "cell_type": "markdown",
      "source": [
        "#### **Contour Square**"
      ],
      "metadata": {
        "id": "X3b9fhBmIyfK"
      }
    },
    {
      "cell_type": "markdown",
      "source": [
        "Top Left Horizontal\n",
        "\n",
        "Full Dim : 105.6 x 105.6\n",
        "\n",
        "Half Dim : 52.8 x 52.8\n",
        "\n",
        "Particles Dim : 51.15 x 51.15"
      ],
      "metadata": {
        "id": "65Fq4xmzKICp"
      }
    },
    {
      "cell_type": "code",
      "source": [
        "contour_norm_params = {\n",
        "    COORDINATES_DATA_PATH : '/content/particles_coordinates.xlsx',\n",
        "    TIME_DATA_PATH        : '',\n",
        "    TEMPERATURE_TIME_DATA_PATH : '/content/square_contour.xlsx',\n",
        "    DIMENSIONS            : [-52.8, 52.8, -52.8, 52.8],\n",
        "    STEP_LENGTH           : [0, 0],\n",
        "    SPEED                 : 10,\n",
        "    START_POS             : 'top-left',\n",
        "    OFFSET                : 3.3\n",
        "}"
      ],
      "metadata": {
        "id": "nKeAou6MInn-"
      },
      "execution_count": null,
      "outputs": []
    },
    {
      "cell_type": "markdown",
      "source": [
        "#### **Contour Rectangle (Aspect Ratio)**"
      ],
      "metadata": {
        "id": "tHrLpbzfJfxV"
      }
    },
    {
      "cell_type": "markdown",
      "source": [
        "Top Left Horizontal\n",
        "\n",
        "Full Dim : 211.2 x 52.8\n",
        "\n",
        "Half Dim : 105.6 x 26.4\n",
        "\n",
        "Particles Dim : "
      ],
      "metadata": {
        "id": "mf3eYow2KK3Y"
      }
    },
    {
      "cell_type": "code",
      "source": [
        "contour_ar_params = {\n",
        "    COORDINATES_DATA_PATH : '/content/particle-coordinate_modified.xlsx',\n",
        "    TIME_DATA_PATH        : '',\n",
        "    TEMPERATURE_TIME_DATA_PATH : '/content/T-t-contour_modified.xlsx',\n",
        "    DIMENSIONS            : [-105.6, 105.6, -26.4, 26.4],\n",
        "    STEP_LENGTH           : [0, 0],\n",
        "    SPEED                 : 10,\n",
        "    START_POS             : 'top-left',\n",
        "    OFFSET                : 3.3\n",
        "}"
      ],
      "metadata": {
        "id": "lhynr_JdIQ3o"
      },
      "execution_count": null,
      "outputs": []
    },
    {
      "cell_type": "markdown",
      "source": [
        "#### **ZigZag Square**"
      ],
      "metadata": {
        "id": "sjPEmU90KNEI"
      }
    },
    {
      "cell_type": "markdown",
      "source": [
        "Top Left Horizontal\n",
        "\n",
        "Full Dim : 105.6 x 105.6\n",
        "\n",
        "Half Dim : 52.8 x 52.8\n",
        "\n",
        "Particles Dim : 51.15 x 51.15"
      ],
      "metadata": {
        "id": "SuGMo6wVKRwe"
      }
    },
    {
      "cell_type": "code",
      "source": [
        "zigzag_norm_params = {\n",
        "    COORDINATES_DATA_PATH : '/content/particles_coordinates.xlsx',\n",
        "    TIME_DATA_PATH        : '',\n",
        "    TEMPERATURE_TIME_DATA_PATH : '/content/square_zigzag.xlsx',\n",
        "    DIMENSIONS            : [-52.8, 52.8, -52.8, 52.8],\n",
        "    STEP_LENGTH           : [0, 3.3],\n",
        "    SPEED                 : 10,\n",
        "    START_POS             : 'top-left',\n",
        "    DIRECTION             : 'horizontal',\n",
        "    OFFSET                : 0\n",
        "}"
      ],
      "metadata": {
        "id": "kgju6LqOKXx9"
      },
      "execution_count": null,
      "outputs": []
    },
    {
      "cell_type": "markdown",
      "source": [
        "#### **ZigZag Rectangle (Aspect Ratio) Horizontal**"
      ],
      "metadata": {
        "id": "PkbFssliK2UG"
      }
    },
    {
      "cell_type": "markdown",
      "source": [
        "Top Left Horizontal\n",
        "\n",
        "Full Dim : 211.2 x 52.8\n",
        "\n",
        "Half Dim : 105.6 x 26.4\n",
        "\n",
        "Particles Dim : "
      ],
      "metadata": {
        "id": "ydyo3H9YK2Ue"
      }
    },
    {
      "cell_type": "code",
      "source": [
        "zigzag_ar_hor_params = {\n",
        "    COORDINATES_DATA_PATH : '/content/particle-coordinate_modified.xlsx',\n",
        "    TIME_DATA_PATH        : '',\n",
        "    TEMPERATURE_TIME_DATA_PATH : '/content/T-t-zigzag-h_modified.xlsx',\n",
        "    DIMENSIONS            : [-105.6, 105.6, -26.4, 26.4],\n",
        "    STEP_LENGTH           : [0, 3.3],\n",
        "    SPEED                 : 10,\n",
        "    START_POS             : 'top-left',\n",
        "    DIRECTION             : 'horizontal',\n",
        "    OFFSET                : 0\n",
        "}"
      ],
      "metadata": {
        "id": "rz51s9cgK2Uf"
      },
      "execution_count": null,
      "outputs": []
    },
    {
      "cell_type": "markdown",
      "source": [
        "#### **ZigZag Aspect Ratio Vertical**"
      ],
      "metadata": {
        "id": "C3w-CSX7LH5N"
      }
    },
    {
      "cell_type": "markdown",
      "source": [
        "Bottom Left Vertical\n",
        "\n",
        "Full Dim : 211.2 x 52.8\n",
        "\n",
        "Half Dim : 105.6 x 26.4\n",
        "\n",
        "Particles Dim : "
      ],
      "metadata": {
        "id": "cwqduUWVLH5g"
      }
    },
    {
      "cell_type": "code",
      "source": [
        "zigzag_ar_ver_params = {\n",
        "    COORDINATES_DATA_PATH : '/content/particle-coordinate_modified.xlsx',\n",
        "    TIME_DATA_PATH        : '',\n",
        "    TEMPERATURE_TIME_DATA_PATH : '/content/T-t-zigzag-v_modified.xlsx',\n",
        "    DIMENSIONS            : [-105.6, 105.6, -26.4, 26.4],\n",
        "    STEP_LENGTH           : [3.3, 0],\n",
        "    SPEED                 : 10,\n",
        "    START_POS             : 'bottom-left',\n",
        "    DIRECTION             : 'vertical',\n",
        "    OFFSET                : 0\n",
        "}"
      ],
      "metadata": {
        "id": "9K26vk4dLH5h"
      },
      "execution_count": null,
      "outputs": []
    },
    {
      "cell_type": "markdown",
      "source": [
        "#### **DataSets**"
      ],
      "metadata": {
        "id": "cP3PqXyUMD0H"
      }
    },
    {
      "cell_type": "code",
      "source": [
        "contour_norm_ds = ContourDataSet(contour_norm_params)"
      ],
      "metadata": {
        "id": "G4GG5MLHMCyX",
        "colab": {
          "base_uri": "https://localhost:8080/",
          "height": 369
        },
        "outputId": "3c36638a-3406-497f-c710-34430e7baff1"
      },
      "execution_count": null,
      "outputs": [
        {
          "output_type": "stream",
          "name": "stdout",
          "text": [
            "Data Shapes...\n",
            "coordinates : (1024, 2)\n",
            "times : (1933, 1)\n",
            "temperatures : (1933, 1024)\n"
          ]
        },
        {
          "output_type": "display_data",
          "data": {
            "text/plain": [
              "<Figure size 432x288 with 1 Axes>"
            ],
            "image/png": "[encoded data removed]"
          },
          "metadata": {
            "needs_background": "light"
          }
        },
        {
          "output_type": "stream",
          "name": "stdout",
          "text": [
            "X shape : (1979392, 6)\n",
            "y shape : (1979392, 1)\n"
          ]
        }
      ]
    },
    {
      "cell_type": "code",
      "source": [
        "contour_ar_ds = ContourDataSet(contour_ar_params)"
      ],
      "metadata": {
        "id": "WEZ1rtp5TILH",
        "colab": {
          "base_uri": "https://localhost:8080/",
          "height": 369
        },
        "outputId": "c5e6380c-fdd8-4ff6-8395-199c5d57cd9f"
      },
      "execution_count": null,
      "outputs": [
        {
          "output_type": "stream",
          "name": "stdout",
          "text": [
            "Data Shapes...\n",
            "coordinates : (1024, 2)\n",
            "times : (1717, 1)\n",
            "temperatures : (1717, 1024)\n"
          ]
        },
        {
          "output_type": "display_data",
          "data": {
            "text/plain": [
              "<Figure size 432x288 with 1 Axes>"
            ],
            "image/png": "[encoded data removed]"
          },
          "metadata": {
            "needs_background": "light"
          }
        },
        {
          "output_type": "stream",
          "name": "stdout",
          "text": [
            "X shape : (1758208, 6)\n",
            "y shape : (1758208, 1)\n"
          ]
        }
      ]
    },
    {
      "cell_type": "code",
      "source": [
        "zigzag_norm_ds = ZigZagDataSet(zigzag_norm_params)"
      ],
      "metadata": {
        "id": "j90l7DovTKZ0",
        "colab": {
          "base_uri": "https://localhost:8080/",
          "height": 369
        },
        "outputId": "9773a201-b733-42fc-d0f8-3af0a68de5af"
      },
      "execution_count": null,
      "outputs": [
        {
          "output_type": "stream",
          "name": "stdout",
          "text": [
            "Data Shapes...\n",
            "coordinates : (1024, 2)\n",
            "times : (1941, 1)\n",
            "temperatures : (1941, 1024)\n",
            "X shape : (1987584, 6)\n",
            "y shape : (1987584, 1)\n"
          ]
        },
        {
          "output_type": "display_data",
          "data": {
            "text/plain": [
              "<Figure size 432x288 with 1 Axes>"
            ],
            "image/png": "[encoded data removed]"
          },
          "metadata": {
            "needs_background": "light"
          }
        }
      ]
    },
    {
      "cell_type": "code",
      "source": [
        "zigzag_ar_hor_ds = ZigZagDataSet(zigzag_ar_hor_params)"
      ],
      "metadata": {
        "id": "02oOwCnETL83",
        "colab": {
          "base_uri": "https://localhost:8080/",
          "height": 369
        },
        "outputId": "c3f73226-a88a-4ea0-bf2c-243bb74c4450"
      },
      "execution_count": null,
      "outputs": [
        {
          "output_type": "stream",
          "name": "stdout",
          "text": [
            "Data Shapes...\n",
            "coordinates : (1024, 2)\n",
            "times : (1716, 1)\n",
            "temperatures : (1716, 1024)\n",
            "X shape : (1757184, 6)\n",
            "y shape : (1757184, 1)\n"
          ]
        },
        {
          "output_type": "display_data",
          "data": {
            "text/plain": [
              "<Figure size 432x288 with 1 Axes>"
            ],
            "image/png": "[encoded data removed]"
          },
          "metadata": {
            "needs_background": "light"
          }
        }
      ]
    },
    {
      "cell_type": "code",
      "source": [
        "zigzag_ar_ver_ds = ZigZagDataSet(zigzag_ar_ver_params)"
      ],
      "metadata": {
        "id": "1BDxvAUoTNVQ",
        "colab": {
          "base_uri": "https://localhost:8080/",
          "height": 369
        },
        "outputId": "5960aa5b-aac3-4bb5-9485-2134b1b50b6a"
      },
      "execution_count": null,
      "outputs": [
        {
          "output_type": "stream",
          "name": "stdout",
          "text": [
            "Data Shapes...\n",
            "coordinates : (1024, 2)\n",
            "times : (1717, 1)\n",
            "temperatures : (1717, 1024)\n",
            "X shape : (1758208, 6)\n",
            "y shape : (1758208, 1)\n"
          ]
        },
        {
          "output_type": "display_data",
          "data": {
            "text/plain": [
              "<Figure size 432x288 with 1 Axes>"
            ],
            "image/png": "[encoded data removed]"
          },
          "metadata": {
            "needs_background": "light"
          }
        }
      ]
    },
    {
      "cell_type": "markdown",
      "source": [
        "### **Global Variables**"
      ],
      "metadata": {
        "id": "5o9kXvQn9m7I"
      }
    },
    {
      "cell_type": "code",
      "source": [
        "SEED           = 42\n",
        "LEARNING_RATE  = 1e-2\n",
        "EPOCHS         = 200\n",
        "BATCH_SIZE     = 256\n",
        "TEST_SIZE      = 0.5"
      ],
      "metadata": {
        "id": "_ZKvYP2n0GNl"
      },
      "execution_count": null,
      "outputs": []
    },
    {
      "cell_type": "markdown",
      "source": [
        "### **Splitting into Train and Test Data Sets**"
      ],
      "metadata": {
        "id": "WKypsJ-L9Z1F"
      }
    },
    {
      "cell_type": "code",
      "source": [
        "from sklearn.model_selection import train_test_split"
      ],
      "metadata": {
        "id": "CbXj5gvpJKfp"
      },
      "execution_count": null,
      "outputs": []
    },
    {
      "cell_type": "code",
      "source": [
        "contour_norm_ds_split = train_test_split(\n",
        "    contour_norm_ds.X,\n",
        "    contour_norm_ds.y, \n",
        "    test_size=TEST_SIZE, \n",
        "    random_state=SEED\n",
        ")\n",
        "\n",
        "contour_ar_ds_split = train_test_split(\n",
        "    contour_ar_ds.X,\n",
        "    contour_ar_ds.y, \n",
        "    test_size=TEST_SIZE, \n",
        "    random_state=SEED\n",
        ")\n",
        "\n",
        "zigzag_norm_ds_split = train_test_split(\n",
        "    zigzag_norm_ds.X,\n",
        "    zigzag_norm_ds.y, \n",
        "    test_size=TEST_SIZE, \n",
        "    random_state=SEED\n",
        ")\n",
        "\n",
        "zigzag_ar_hor_ds_split = train_test_split(\n",
        "    zigzag_ar_hor_ds.X,\n",
        "    zigzag_ar_hor_ds.y, \n",
        "    test_size=TEST_SIZE, \n",
        "    random_state=SEED\n",
        ")\n",
        "\n",
        "zigzag_ar_ver_ds_split = train_test_split(\n",
        "    zigzag_ar_ver_ds.X,\n",
        "    zigzag_ar_ver_ds.y, \n",
        "    test_size=TEST_SIZE, \n",
        "    random_state=SEED\n",
        ")"
      ],
      "metadata": {
        "id": "mB409Sio580x"
      },
      "execution_count": null,
      "outputs": []
    },
    {
      "cell_type": "code",
      "source": [
        "# Order : X_train, X_test, y_train, y_test\n",
        "\n",
        "X_train = np.vstack((\n",
        "    contour_norm_ds_split[0],\n",
        "    contour_ar_ds_split[0],\n",
        "    zigzag_norm_ds_split[0],\n",
        "    zigzag_ar_hor_ds_split[0],\n",
        "    zigzag_ar_ver_ds_split[0]\n",
        "))\n",
        "\n",
        "X_test = np.vstack((\n",
        "    contour_norm_ds_split[1],\n",
        "    contour_ar_ds_split[1],\n",
        "    zigzag_norm_ds_split[1],\n",
        "    zigzag_ar_hor_ds_split[1],\n",
        "    zigzag_ar_ver_ds_split[1] \n",
        "))\n",
        "\n",
        "y_train = np.vstack((\n",
        "    contour_norm_ds_split[2],\n",
        "    contour_ar_ds_split[2],\n",
        "    zigzag_norm_ds_split[2],\n",
        "    zigzag_ar_hor_ds_split[2],\n",
        "    zigzag_ar_ver_ds_split[2]\n",
        "))\n",
        "\n",
        "y_test = np.vstack((\n",
        "    contour_norm_ds_split[3],\n",
        "    contour_ar_ds_split[3],\n",
        "    zigzag_norm_ds_split[3],\n",
        "    zigzag_ar_hor_ds_split[3],\n",
        "    zigzag_ar_ver_ds_split[3]\n",
        "))"
      ],
      "metadata": {
        "id": "-6tfYxKf8FLv"
      },
      "execution_count": null,
      "outputs": []
    },
    {
      "cell_type": "markdown",
      "source": [
        "### **Standardisation**"
      ],
      "metadata": {
        "id": "XLTXo26m9fjz"
      }
    },
    {
      "cell_type": "code",
      "source": [
        "from sklearn.preprocessing import StandardScaler"
      ],
      "metadata": {
        "id": "iRXnt6_PS1Vl"
      },
      "execution_count": null,
      "outputs": []
    },
    {
      "cell_type": "code",
      "source": [
        "sc = StandardScaler()\n",
        "X_train = sc.fit_transform(X_train)\n",
        "X_test = sc.transform(X_test)"
      ],
      "metadata": {
        "id": "GfO_tEbwJkbg"
      },
      "execution_count": null,
      "outputs": []
    },
    {
      "cell_type": "markdown",
      "source": [
        "### **Neural Network**"
      ],
      "metadata": {
        "id": "4co5Dhh1-Ww_"
      }
    },
    {
      "cell_type": "code",
      "source": [
        "import torch\n",
        "from torch import nn\n",
        "from torch.utils.data import DataLoader\n",
        "from torch.utils.data import Dataset"
      ],
      "metadata": {
        "id": "QsVW6I3i8SK1"
      },
      "execution_count": null,
      "outputs": []
    },
    {
      "cell_type": "code",
      "source": [
        "device = \"cuda\" if torch.cuda.is_available() else \"cpu\""
      ],
      "metadata": {
        "id": "08R7pu_gE147"
      },
      "execution_count": null,
      "outputs": []
    },
    {
      "cell_type": "code",
      "source": [
        "X_train = torch.from_numpy(X_train).type(torch.float).to(device)\n",
        "y_train = torch.from_numpy(y_train).type(torch.float).to(device)\n",
        "X_test = torch.from_numpy(X_test).type(torch.float).to(device)\n",
        "y_test = torch.from_numpy(y_test).type(torch.float).to(device)"
      ],
      "metadata": {
        "id": "2ZyytiGr-Rj4"
      },
      "execution_count": null,
      "outputs": []
    },
    {
      "cell_type": "code",
      "source": [
        "class CustomDataset(Dataset):\n",
        "    \n",
        "    def __init__(self, x, y, transform=None, target_transform=None):\n",
        "        self.inputs = x\n",
        "        self.targets = y\n",
        "\n",
        "    def __len__(self):\n",
        "        return self.inputs.size()[0]\n",
        "\n",
        "    def __getitem__(self, idx):\n",
        "        return self.inputs[idx], self.targets[idx]"
      ],
      "metadata": {
        "id": "W7d33Ftq03Qx"
      },
      "execution_count": null,
      "outputs": []
    },
    {
      "cell_type": "code",
      "source": [
        "X__train = CustomDataset(X_train, y_train)\n",
        "X__test = CustomDataset(X_test, y_test)"
      ],
      "metadata": {
        "id": "6pSiFeDT1LhI"
      },
      "execution_count": null,
      "outputs": []
    },
    {
      "cell_type": "code",
      "source": [
        "train_dataloader = DataLoader(\n",
        "    dataset=X__train,\n",
        "    batch_size=BATCH_SIZE, \n",
        "    shuffle=True\n",
        ")\n",
        "\n",
        "test_dataloader = DataLoader(\n",
        "    dataset=X__test, \n",
        "    batch_size=BATCH_SIZE, \n",
        "    shuffle=False\n",
        ")"
      ],
      "metadata": {
        "id": "rg8d7LPG1gtK"
      },
      "execution_count": null,
      "outputs": []
    },
    {
      "cell_type": "code",
      "source": [
        "class NeuralNetwork(nn.Module):\n",
        "\n",
        "    def __init__(self):\n",
        "        super().__init__()\n",
        "        self.layer_stack = nn.Sequential (\n",
        "            nn.Linear(in_features=6, out_features=16),\n",
        "            nn.ReLU(),\n",
        "            nn.Linear(in_features=16, out_features=32),\n",
        "            nn.ReLU(),\n",
        "            nn.Linear(in_features=32, out_features=16),\n",
        "            nn.ReLU(),\n",
        "            nn.Linear(in_features=16, out_features=8),\n",
        "            nn.ReLU(),\n",
        "            nn.Linear(in_features=8, out_features=1),\n",
        "            nn.ReLU()\n",
        "        )\n",
        "\n",
        "    def forward(self, x):\n",
        "        return self.layer_stack(x)"
      ],
      "metadata": {
        "id": "kSJdS_iE-R0h"
      },
      "execution_count": null,
      "outputs": []
    },
    {
      "cell_type": "code",
      "source": [
        "model = NeuralNetwork().to(device)"
      ],
      "metadata": {
        "id": "uAxOGHze-R7v"
      },
      "execution_count": null,
      "outputs": []
    },
    {
      "cell_type": "code",
      "source": [
        "lossFunction = nn.MSELoss()\n",
        "optimizer = torch.optim.Adam(params=model.parameters(), lr=LEARNING_RATE)"
      ],
      "metadata": {
        "id": "zJ9lIrg7-SEJ"
      },
      "execution_count": null,
      "outputs": []
    },
    {
      "cell_type": "code",
      "source": [
        "from tqdm.auto import tqdm"
      ],
      "metadata": {
        "id": "HUWoLQU-5mlo"
      },
      "execution_count": null,
      "outputs": []
    },
    {
      "cell_type": "code",
      "source": [
        "torch.manual_seed(SEED)\n",
        "torch.cuda.manual_seed(SEED)\n",
        "\n",
        "epoch_count = []\n",
        "train_loss_values = []\n",
        "test_loss_values = []\n",
        "\n",
        "for epoch in tqdm(range(EPOCHS)):\n",
        "\n",
        "    train_loss = 0\n",
        "\n",
        "    for batch, (X, y) in enumerate(train_dataloader):\n",
        "\n",
        "        model.train()\n",
        "        y_train_pred = model(X)\n",
        "        loss = lossFunction(y_train_pred, y)\n",
        "        train_loss += loss.item()\n",
        "        optimizer.zero_grad()\n",
        "        loss.backward()\n",
        "        optimizer.step()\n",
        "\n",
        "    train_loss /= len(train_dataloader)\n",
        "    train_loss_values.append(train_loss)\n",
        "\n",
        "    test_loss = 0\n",
        "\n",
        "    model.eval()\n",
        "    with torch.inference_mode():\n",
        "        for batch, (X, y) in enumerate(test_dataloader):\n",
        "            y_test_pred = model(X)\n",
        "            loss = lossFunction(y_test_pred, y)\n",
        "            test_loss += loss.item()\n",
        "\n",
        "        test_loss /= len(test_dataloader)\n",
        "        test_loss_values.append(test_loss)"
      ],
      "metadata": {
        "colab": {
          "base_uri": "https://localhost:8080/",
          "height": 49,
          "referenced_widgets": [
            "e39680628c13495eb84460c26c33345c",
            "c035a912d7134768b6a9bd7f9edd0a10",
            "b3c68a0712084116bd886cd7bbe5eb78",
            "afba6b0e4ed04b758192a4b6a5428237",
            "ea459146847148b79cadea4a9770d971",
            "15f1f9df624341c78c3e8b681ac0d017",
            "607ba503be46408bbd38f842d1f3a21f",
            "748604fd2f6f45468326d44034b59636",
            "a1edd26730124d43b6f0edf6e065152d",
            "de8f044256784136804dc6fcb67f253d",
            "221bd4c68c694aefa15285af37c6f8f8"
          ]
        },
        "id": "XnM5cdm65nIv",
        "outputId": "adf9b752-b387-4286-9a53-28a0caf5b749"
      },
      "execution_count": null,
      "outputs": [
        {
          "output_type": "display_data",
          "data": {
            "text/plain": [
              "  0%|          | 0/200 [00:00<?, ?it/s]"
            ],
            "application/vnd.jupyter.widget-view+json": {
              "version_major": 2,
              "version_minor": 0,
              "model_id": "e39680628c13495eb84460c26c33345c"
            }
          },
          "metadata": {}
        }
      ]
    },
    {
      "cell_type": "markdown",
      "source": [
        "### **Loss Curves**"
      ],
      "metadata": {
        "id": "ut0GFBo99msj"
      }
    },
    {
      "cell_type": "code",
      "source": [
        "plt.plot(range(EPOCHS), train_loss_values, label=\"Train Loss\")\n",
        "plt.plot(range(EPOCHS), test_loss_values, label=\"Test Loss\")\n",
        "plt.xlabel('Epochs')\n",
        "plt.ylabel('Loss')\n",
        "plt.legend()\n",
        "plt.show()"
      ],
      "metadata": {
        "colab": {
          "base_uri": "https://localhost:8080/",
          "height": 279
        },
        "id": "yq2UJ3Pj-ts5",
        "outputId": "d4b9c075-4979-444a-a4ee-1ca82e5774c8"
      },
      "execution_count": null,
      "outputs": [
        {
          "output_type": "display_data",
          "data": {
            "text/plain": [
              "<Figure size 432x288 with 1 Axes>"
            ],
            "image/png": "[encoded data removed]"
          },
          "metadata": {
            "needs_background": "light"
          }
        }
      ]
    },
    {
      "cell_type": "code",
      "source": [
        "with torch.inference_mode():\n",
        "    pred = model(X_test).numpy()"
      ],
      "metadata": {
        "id": "lNgDITQZDaM5"
      },
      "execution_count": null,
      "outputs": []
    },
    {
      "cell_type": "markdown",
      "source": [
        "### **R^2 Value**"
      ],
      "metadata": {
        "id": "IAH6HOrJ9qJE"
      }
    },
    {
      "cell_type": "code",
      "source": [
        "from sklearn.metrics import explained_variance_score"
      ],
      "metadata": {
        "id": "dDR42I1nG4Q4"
      },
      "execution_count": null,
      "outputs": []
    },
    {
      "cell_type": "code",
      "source": [
        "print(f\"Neural Network Explained Variance: { explained_variance_score(y_test.numpy(), pred):.4f}\")"
      ],
      "metadata": {
        "colab": {
          "base_uri": "https://localhost:8080/"
        },
        "id": "eMu9oSLSG4qA",
        "outputId": "9ea9b450-43d8-4312-9153-f6ba74a51696"
      },
      "execution_count": null,
      "outputs": [
        {
          "output_type": "stream",
          "name": "stdout",
          "text": [
            "Neural Network Explained Variance: 0.8646\n"
          ]
        }
      ]
    },
    {
      "cell_type": "markdown",
      "source": [
        "### **Heat Maps**"
      ],
      "metadata": {
        "id": "YTc4-OYw941o"
      }
    },
    {
      "cell_type": "code",
      "source": [
        "TT_data_ = pd.read_excel(TEMPERATURES_PATH)\n",
        "TT_data = TT_data_.iloc[:, :].values"
      ],
      "metadata": {
        "id": "kb3tNjYWND3C"
      },
      "execution_count": null,
      "outputs": []
    },
    {
      "cell_type": "code",
      "source": [
        "T_T_z=TT_data\n",
        "T_T_z.shape\n"
      ],
      "metadata": {
        "colab": {
          "base_uri": "https://localhost:8080/"
        },
        "id": "vv6C7WffNNwc",
        "outputId": "027bd556-0653-4863-859d-fecf9b155581"
      },
      "execution_count": null,
      "outputs": [
        {
          "output_type": "execute_result",
          "data": {
            "text/plain": [
              "(477, 512)"
            ]
          },
          "metadata": {},
          "execution_count": 69
        }
      ]
    },
    {
      "cell_type": "code",
      "source": [
        "Tpred_T_z = np.array(pred)\n",
        "T_max = np.amax(T_T_z, axis=0)\n",
        "\n",
        "T_ph_pred = [0]*len(T_max)\n",
        "\n",
        "for i in np.arange(len(T_max)):\n",
        "    for j in np.arange(len(T_T_z)):\n",
        "        if T_T_z[j,i] == T_max[i] and T_T_z[j,i]>0:\n",
        "            T_ph_pred[i] = Tpred_T_z[j-3]\n",
        "            \n",
        "T_ph_pred = np.array(T_ph_pred)\n",
        "\n",
        "T_ph_pred = T_ph_pred.reshape(32, 16)\n",
        "T_ph_pred = np.rot90(T_ph_pred, k = 1, axes = (0,1))\n",
        "\n",
        "plt.pcolormesh(T_ph_pred, cmap = 'plasma',vmin = 0, vmax = 1600)\n",
        "plt.title(\"Predicted Preheat Temperature\")\n",
        "plt.colorbar()\n",
        "plt.show()"
      ],
      "metadata": {
        "colab": {
          "base_uri": "https://localhost:8080/",
          "height": 281
        },
        "id": "-w9wp-XBG_h8",
        "outputId": "0b3c725c-a64f-47be-9bf4-6591e55ff17a"
      },
      "execution_count": null,
      "outputs": [
        {
          "output_type": "display_data",
          "data": {
            "text/plain": [
              "<Figure size 432x288 with 2 Axes>"
            ],
            "image/png": "[encoded data removed]"
          },
          "metadata": {
            "needs_background": "light"
          }
        }
      ]
    },
    {
      "cell_type": "code",
      "source": [
        "Tpred_T_z = np.array(y_test)\n",
        "T_max = np.amax(T_T_z, axis=0)\n",
        "\n",
        "T_ph_pred = [0]*len(T_max)\n",
        "\n",
        "for i in np.arange(len(T_max)):\n",
        "    for j in np.arange(len(T_T_z)):\n",
        "        if T_T_z[j,i] == T_max[i] and T_T_z[j,i]>0:\n",
        "            T_ph_pred[i] = Tpred_T_z[j-3]\n",
        "            \n",
        "T_ph_pred = np.array(T_ph_pred)\n",
        "T_ph_pred = T_ph_pred.reshape(32, 16)\n",
        "T_ph_pred = np.rot90(T_ph_pred, k = 1, axes = (0,1))\n",
        "\n",
        "plt.pcolormesh(T_ph_pred, cmap = 'plasma',vmin = 0, vmax = 1600)\n",
        "plt.title(\"Actual Preheat Temperature\")\n",
        "plt.colorbar()\n",
        "plt.show()"
      ],
      "metadata": {
        "colab": {
          "base_uri": "https://localhost:8080/",
          "height": 281
        },
        "id": "C08ZVrRaFySV",
        "outputId": "143ec03d-889f-4409-9771-10ad8697a822"
      },
      "execution_count": null,
      "outputs": [
        {
          "output_type": "display_data",
          "data": {
            "text/plain": [
              "<Figure size 432x288 with 2 Axes>"
            ],
            "image/png": "[encoded data removed]"
          },
          "metadata": {
            "needs_background": "light"
          }
        }
      ]
    }
  ]
}